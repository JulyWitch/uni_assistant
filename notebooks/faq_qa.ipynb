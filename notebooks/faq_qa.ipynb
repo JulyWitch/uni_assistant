{
 "cells": [
  {
   "cell_type": "code",
   "execution_count": 14,
   "metadata": {},
   "outputs": [
    {
     "data": {
      "text/plain": [
       "{'id': 43291, 'reply_to_msg_id': 43290, 'message': '۲۳ تا ۲۹'}"
      ]
     },
     "execution_count": 14,
     "metadata": {},
     "output_type": "execute_result"
    }
   ],
   "source": [
    "import json\n",
    "\n",
    "with open('../datasets/ceuk_qa_messages.json') as f:\n",
    "    qa_messages = json.load(f)\n",
    "\n",
    "\n",
    "def get_cleaned_item(message):\n",
    "    message_content = message['message']\n",
    "    reply_to_msg_id = message['reply_to']['reply_to_msg_id']\n",
    "\n",
    "    return {\n",
    "        'id': message['id'],\n",
    "        'reply_to_msg_id': reply_to_msg_id,\n",
    "        'message': message_content\n",
    "    }\n",
    "\n",
    "qa_messages = [get_cleaned_item(\n",
    "    item) for item in qa_messages if item['reply_to'] != None and 'message' in item]\n",
    "\n",
    "qa_messages[2]"
   ]
  },
  {
   "cell_type": "code",
   "execution_count": 19,
   "metadata": {},
   "outputs": [
    {
     "data": {
      "text/html": [
       "<div>\n",
       "<style scoped>\n",
       "    .dataframe tbody tr th:only-of-type {\n",
       "        vertical-align: middle;\n",
       "    }\n",
       "\n",
       "    .dataframe tbody tr th {\n",
       "        vertical-align: top;\n",
       "    }\n",
       "\n",
       "    .dataframe thead th {\n",
       "        text-align: right;\n",
       "    }\n",
       "</style>\n",
       "<table border=\"1\" class=\"dataframe\">\n",
       "  <thead>\n",
       "    <tr style=\"text-align: right;\">\n",
       "      <th></th>\n",
       "      <th>id</th>\n",
       "      <th>reply_to_msg_id</th>\n",
       "      <th>message</th>\n",
       "    </tr>\n",
       "  </thead>\n",
       "  <tbody>\n",
       "    <tr>\n",
       "      <th>0</th>\n",
       "      <td>43294</td>\n",
       "      <td>43293</td>\n",
       "      <td>من فصل ۴ . ۵ . ۶ رو دارم</td>\n",
       "    </tr>\n",
       "    <tr>\n",
       "      <th>1</th>\n",
       "      <td>43293</td>\n",
       "      <td>43292</td>\n",
       "      <td>#سوال pdf کتاب رو کسی داره؟</td>\n",
       "    </tr>\n",
       "    <tr>\n",
       "      <th>2</th>\n",
       "      <td>43291</td>\n",
       "      <td>43290</td>\n",
       "      <td>۲۳ تا ۲۹</td>\n",
       "    </tr>\n",
       "    <tr>\n",
       "      <th>3</th>\n",
       "      <td>43288</td>\n",
       "      <td>43287</td>\n",
       "      <td>#ج\\nسلام\\nتوسط بخش انتخاب میشه</td>\n",
       "    </tr>\n",
       "    <tr>\n",
       "      <th>4</th>\n",
       "      <td>43286</td>\n",
       "      <td>43277</td>\n",
       "      <td>سلام میشه بفرستید</td>\n",
       "    </tr>\n",
       "  </tbody>\n",
       "</table>\n",
       "</div>"
      ],
      "text/plain": [
       "      id  reply_to_msg_id                         message\n",
       "0  43294            43293        من فصل ۴ . ۵ . ۶ رو دارم\n",
       "1  43293            43292     #سوال pdf کتاب رو کسی داره؟\n",
       "2  43291            43290                        ۲۳ تا ۲۹\n",
       "3  43288            43287  #ج\\nسلام\\nتوسط بخش انتخاب میشه\n",
       "4  43286            43277               سلام میشه بفرستید"
      ]
     },
     "execution_count": 19,
     "metadata": {},
     "output_type": "execute_result"
    }
   ],
   "source": [
    "import pandas as pd\n",
    "\n",
    "data = pd.DataFrame(qa_messages)\n",
    "\n",
    "data.head()"
   ]
  }
 ],
 "metadata": {
  "kernelspec": {
   "display_name": "uni_assistant",
   "language": "python",
   "name": "python3"
  },
  "language_info": {
   "codemirror_mode": {
    "name": "ipython",
    "version": 3
   },
   "file_extension": ".py",
   "mimetype": "text/x-python",
   "name": "python",
   "nbconvert_exporter": "python",
   "pygments_lexer": "ipython3",
   "version": "3.11.3"
  },
  "orig_nbformat": 4
 },
 "nbformat": 4,
 "nbformat_minor": 2
}
