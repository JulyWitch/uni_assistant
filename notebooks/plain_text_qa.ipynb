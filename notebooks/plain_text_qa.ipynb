{
 "cells": [
  {
   "cell_type": "code",
   "execution_count": 2,
   "metadata": {},
   "outputs": [],
   "source": [
    "from transformers import AutoTokenizer, AutoModelForQuestionAnswering\n",
    "import torch\n",
    "from src.utils import AnswerPredictor\n",
    "\n",
    "model_name = 'SajjadAyoubi/xlm-roberta-large-fa-qa'\n",
    "model = AutoModelForQuestionAnswering.from_pretrained(model_name)\n",
    "tokenizer = AutoTokenizer.from_pretrained(model_name)\n"
   ]
  },
  {
   "cell_type": "code",
   "execution_count": 11,
   "metadata": {},
   "outputs": [
    {
     "name": "stderr",
     "output_type": "stream",
     "text": [
      "100%|█████████████████████████████████████████████████████████████████████████████████████████████████| 1/1 [00:03<00:00,  3.60s/it]\n"
     ]
    },
    {
     "name": "stdout",
     "output_type": "stream",
     "text": [
      "\n",
      "{'score': 3.465780735015869, 'text': ' در صورت تأخير و يا عذر موجه، حق انتخاب واحد و ادامه تحصيل را در آن نيمسال ندارد'}\n"
     ]
    }
   ],
   "source": [
    "with open('./datasets/university_rules.text') as file:\n",
    "    text = file.read()\n",
    "\n",
    "questions = [\"اگر انتخاب واحد نکنم چه می شود؟\"]\n",
    "\n",
    "# this class is from src/utils.py and you can read more about it\n",
    "predictor = AnswerPredictor(model, tokenizer, device='mps', n_best=10)\n",
    "preds = predictor(questions, [text])\n",
    "\n",
    "print()\n",
    "for k, v in preds.items():\n",
    "    print(v)"
   ]
  },
  {
   "cell_type": "code",
   "execution_count": null,
   "metadata": {},
   "outputs": [],
   "source": []
  }
 ],
 "metadata": {
  "kernelspec": {
   "display_name": "Python [conda env:uni_assistant] *",
   "language": "python",
   "name": "conda-env-uni_assistant-py"
  },
  "language_info": {
   "codemirror_mode": {
    "name": "ipython",
    "version": 3
   },
   "file_extension": ".py",
   "mimetype": "text/x-python",
   "name": "python",
   "nbconvert_exporter": "python",
   "pygments_lexer": "ipython3",
   "version": "3.11.3"
  }
 },
 "nbformat": 4,
 "nbformat_minor": 2
}
